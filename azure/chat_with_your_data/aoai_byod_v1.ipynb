{
 "cells": [
  {
   "cell_type": "code",
   "execution_count": null,
   "metadata": {},
   "outputs": [],
   "source": [
    "! pip install openai==1.3.7\n",
    "! pip install python-dotenv"
   ]
  },
  {
   "cell_type": "code",
   "execution_count": 7,
   "metadata": {},
   "outputs": [
    {
     "data": {
      "text/plain": [
       "True"
      ]
     },
     "execution_count": 7,
     "metadata": {},
     "output_type": "execute_result"
    }
   ],
   "source": [
    "import os\n",
    "\n",
    "# Load environment variables from .env file\n",
    "from dotenv import load_dotenv\n",
    "\n",
    "load_dotenv()\n"
   ]
  },
  {
   "cell_type": "markdown",
   "metadata": {},
   "source": [
    "## openai-python 1.3.7 usage\n"
   ]
  },
  {
   "cell_type": "markdown",
   "metadata": {},
   "source": [
    "### 1) Chat Completions"
   ]
  },
  {
   "cell_type": "code",
   "execution_count": 8,
   "metadata": {},
   "outputs": [
    {
     "name": "stdout",
     "output_type": "stream",
     "text": [
      "Yes, other Azure AI services also support customer managed keys. Some examples include Azure Cognitive Services and Azure Machine Learning.\n"
     ]
    }
   ],
   "source": [
    "\n",
    "import openai\n",
    "\n",
    "client = openai.AzureOpenAI(\n",
    "    api_key=os.environ[\"OPENAI_API_KEY\"],\n",
    "    azure_endpoint=os.environ[\"AZURE_OPENAI_BASE\"],\n",
    "    api_version=os.environ[\"AZURE_OPENAI_API_VERSION\"],\n",
    ")\n",
    "\n",
    "message_text = [\n",
    "      {\"role\": \"system\", \"content\": \"You are a helpful assistant.\"},\n",
    "      {\"role\": \"user\", \"content\": \"Does Azure OpenAI support customer managed keys?\"},\n",
    "      {\"role\": \"assistant\", \"content\": \"Yes, customer managed keys are supported by Azure OpenAI.\"},\n",
    "      {\"role\": \"user\", \"content\": \"Do other Azure AI services support this too?\"}\n",
    "    ]\n",
    "\n",
    "response = client.chat.completions.create(\n",
    "    model=\"gpt-35-turbo\",\n",
    "    messages=message_text,\n",
    ")\n",
    "\n",
    "\n",
    "print(response.choices[0].message.content)"
   ]
  },
  {
   "cell_type": "markdown",
   "metadata": {},
   "source": [
    "### 2) Chat Completions with Azure Search"
   ]
  },
  {
   "cell_type": "code",
   "execution_count": 11,
   "metadata": {},
   "outputs": [
    {
     "name": "stdout",
     "output_type": "stream",
     "text": [
      "The retrieved documents are from the \"Occupational change and wage inequality: European Jobs Monitor 2017\" research report by the European Foundation for the Improvement of Living and Working Conditions. The report discusses the shifts in employment structure and wage inequality in Europe. It highlights that employment growth since 2013 has been skewed towards well-paid jobs, with robust growth in low-paid and mid-paid jobs as well. The report also notes that more than 70% of jobs in the EU are now in services, a sector that has added over 8 million jobs since 2011. The report uses a jobs-based approach to provide up-to-date data about employment levels and job quality in growing and declining sectors and occupations. It also discusses the role of technology and international trade in employment change, and the state's role as an employer[doc1][doc2][doc3][doc4].\n"
     ]
    }
   ],
   "source": [
    "import os\n",
    "import openai\n",
    "\n",
    "\n",
    "def get_answer(question):\n",
    "    response = client.chat.completions.create(\n",
    "        model=\"gpt-35-turbo\",\n",
    "        messages=[{\"role\": \"user\", \"content\": question}],\n",
    "        extra_body={\n",
    "            \"dataSources\": [\n",
    "                {\n",
    "                    \"type\": \"AzureCognitiveSearch\",\n",
    "                    \"parameters\": {\n",
    "                        \"endpoint\": os.environ[\"AZURE_SEARCH_ENDPOINT\"],\n",
    "                        \"key\": os.environ[\"AZURE_SEARCH_KEY\"],\n",
    "                        \"indexName\": os.environ[\"AZURE_SEARCH_INDEX\"],\n",
    "                    }\n",
    "                }\n",
    "            ]\n",
    "        }\n",
    "    )\n",
    "    return response.choices[0].message.content\n",
    "\n",
    "# Test the function\n",
    "\n",
    "answer = get_answer(\"What is the short summary of the knowldege base?\")\n",
    "\n",
    "print(answer)"
   ]
  }
 ],
 "metadata": {
  "kernelspec": {
   "display_name": "llm-workshop",
   "language": "python",
   "name": "python3"
  },
  "language_info": {
   "codemirror_mode": {
    "name": "ipython",
    "version": 3
   },
   "file_extension": ".py",
   "mimetype": "text/x-python",
   "name": "python",
   "nbconvert_exporter": "python",
   "pygments_lexer": "ipython3",
   "version": "3.12.0"
  }
 },
 "nbformat": 4,
 "nbformat_minor": 2
}
