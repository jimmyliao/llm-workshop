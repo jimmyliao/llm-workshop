{
 "cells": [
  {
   "cell_type": "markdown",
   "id": "278e7451",
   "metadata": {},
   "source": [
    "<h1 align =\"center\"> Python SDK Sample</h1>\n",
    "<hr>\n",
    "\n",
    "# Chat Completions\n",
    "\n",
    "Chat models take a series of messages as input, and return a model-generated message as output.\n",
    "The main input is the messages parameter. Messages must be an array of message objects, where each object has a role (either \"system\", \"user\", or \"assistant\") and content (the content of the message). "
   ]
  },
  {
   "cell_type": "code",
   "execution_count": null,
   "id": "fb97123e",
   "metadata": {},
   "outputs": [],
   "source": [
    "# if needed, install and/or upgrade to the latest version of the OpenAI Python library\n",
    "%pip install --upgrade openai"
   ]
  },
  {
   "cell_type": "code",
   "execution_count": 1,
   "id": "ccbb9a99",
   "metadata": {},
   "outputs": [],
   "source": [
    "# import os module & the OpenAI Python library for calling the OpenAI API\n",
    "import os\n",
    "import openai\n",
    "import json"
   ]
  },
  {
   "cell_type": "markdown",
   "id": "6d33f92a",
   "metadata": {},
   "source": [
    "### Setup Parameters"
   ]
  },
  {
   "cell_type": "code",
   "execution_count": 8,
   "id": "1d67d3b6",
   "metadata": {},
   "outputs": [],
   "source": [
    "# Load config values\n",
    "# with open(r'config.json') as config_file:\n",
    "#     config_details = json.load(config_file)\n",
    "    \n",
    "# # Setting up the deployment name\n",
    "# chatgpt_model_name = config_details['CHATGPT_MODEL']\n",
    "\n",
    "# This is set to `azure`\n",
    "openai.api_type = \"azure\"\n",
    "\n",
    "\n",
    "# The API key for your Azure OpenAI resource.\n",
    "# openai.api_key = os.getenv(\"OPENAI_API_KEY\")\n",
    "\n",
    "# The base URL for your Azure OpenAI resource. e.g. \"https://<your resource name>.openai.azure.com\"\n",
    "# openai.api_base = config_details['OPENAI_API_BASE']\n",
    "\n",
    "# Currently Chat Completion API have the following versions available: 2023-03-15-preview\n",
    "# openai.api_version = config_details['OPENAI_API_VERSION']\n",
    "\n",
    "openai.api_key = \"3bc1de941c334996b284cd023eba5db1\"\n",
    "openai.api_base = \"https://aoai-jimmyliao-jp.openai.azure.com/\"\n",
    "openai.api_version = \"2023-07-01-preview\"\n"
   ]
  },
  {
   "cell_type": "code",
   "execution_count": 12,
   "id": "150a3db0",
   "metadata": {},
   "outputs": [
    {
     "ename": "SyntaxError",
     "evalue": "incomplete input (290077290.py, line 49)",
     "output_type": "error",
     "traceback": [
      "\u001b[0;36m  Cell \u001b[0;32mIn[12], line 49\u001b[0;36m\u001b[0m\n\u001b[0;31m    #     print(\"An exception has occured.\")\u001b[0m\n\u001b[0m                                            ^\u001b[0m\n\u001b[0;31mSyntaxError\u001b[0m\u001b[0;31m:\u001b[0m incomplete input\n"
     ]
    }
   ],
   "source": [
    "# A sample API call for chat completions looks as follows:\n",
    "# Messages must be an array of message objects, where each object has a role (either \"system\", \"user\", or \"assistant\") and content (the content of the message).\n",
    "# For more info: https://learn.microsoft.com/en-us/azure/cognitive-services/openai/reference#chat-completions\n",
    "\n",
    "# chatgpt_model_name = \"gpt-4\"\n",
    "\n",
    "# try:\n",
    "    # response = openai.ChatCompletion.create(\n",
    "    #               engine=chatgpt_model_name,\n",
    "    #               messages=[\n",
    "    #                     {\"role\": \"system\", \"content\": \"You are a helpful assistant.\"},\n",
    "    #                     {\"role\": \"user\", \"content\": \"Who won the world series in 2020?\"}\n",
    "    #                 ]\n",
    "    #             )\n",
    "\n",
    "    # # print the response\n",
    "    # print(response['choices'][0]['message']['content'])\n",
    "    \n",
    "# except openai.error.APIError as e:\n",
    "#     # Handle API error here, e.g. retry or log\n",
    "#     print(f\"OpenAI API returned an API Error: {e}\")\n",
    "\n",
    "# except openai.error.AuthenticationError as e:\n",
    "#     # Handle Authentication error here, e.g. invalid API key\n",
    "#     print(f\"OpenAI API returned an Authentication Error: {e}\")\n",
    "\n",
    "# except openai.error.APIConnectionError as e:\n",
    "#     # Handle connection error here\n",
    "#     print(f\"Failed to connect to OpenAI API: {e}\")\n",
    "\n",
    "# except openai.error.InvalidRequestError as e:\n",
    "#     # Handle connection error here\n",
    "#     print(f\"Invalid Request Error: {e}\")\n",
    "\n",
    "# except openai.error.RateLimitError as e:\n",
    "#     # Handle rate limit error\n",
    "#     print(f\"OpenAI API request exceeded rate limit: {e}\")\n",
    "\n",
    "# except openai.error.ServiceUnavailableError as e:\n",
    "#     # Handle Service Unavailable error\n",
    "#     print(f\"Service Unavailable: {e}\")\n",
    "\n",
    "# except openai.error.Timeout as e:\n",
    "#     # Handle request timeout\n",
    "#     print(f\"Request timed out: {e}\")\n",
    "    \n",
    "# except:\n",
    "#     # Handles all other exceptions\n",
    "#     print(\"An exception has occured.\")"
   ]
  },
  {
   "cell_type": "code",
   "execution_count": 8,
   "id": "cc92fe64",
   "metadata": {},
   "outputs": [
    {
     "name": "stdout",
     "output_type": "stream",
     "text": [
      "Yes, many Azure AI services support customer managed keys. However, the availability of this feature may vary depending on the specific service. It is recommended to check the documentation of each service to confirm if customer managed keys are supported.\n"
     ]
    }
   ],
   "source": [
    "#Note: The openai-python library support for Azure OpenAI is in preview.\n",
    "      #Note: This code sample requires OpenAI Python library version 0.28.1 or lower.\n",
    "import os\n",
    "import openai\n",
    "\n",
    "# openai.api_type = \"azure\"\n",
    "# openai.base_url = \"https://aoai-jimmyliao-jp.openai.azure.com/\"\n",
    "# openai.api_version = \"2023-07-01-preview\"\n",
    "# # openai.api_key = os.getenv(\"OPENAI_API_KEY\")\n",
    "# openai.api_key = \"3bc1de941c334996b284cd023eba5db1\"\n",
    "\n",
    "from openai import AzureOpenAI\n",
    "\n",
    "client = AzureOpenAI(\n",
    "    api_key=\"3bc1de941c334996b284cd023eba5db1\",\n",
    "    azure_endpoint=\"https://aoai-jimmyliao-jp.openai.azure.com/\",\n",
    "    api_version=\"2023-07-01-preview\"\n",
    ")\n",
    "\n",
    "\n",
    "message_text = [\n",
    "      {\"role\": \"system\", \"content\": \"You are a helpful assistant.\"},\n",
    "      {\"role\": \"user\", \"content\": \"Does Azure OpenAI support customer managed keys?\"},\n",
    "      {\"role\": \"assistant\", \"content\": \"Yes, customer managed keys are supported by Azure OpenAI.\"},\n",
    "      {\"role\": \"user\", \"content\": \"Do other Azure AI services support this too?\"}\n",
    "    ]\n",
    "\n",
    "response = client.chat.completions.create(\n",
    "    model=\"gpt-35-turbo\",\n",
    "    messages=message_text,\n",
    ")\n",
    "\n",
    "print(response.choices[0].message.content)"
   ]
  },
  {
   "cell_type": "code",
   "execution_count": null,
   "metadata": {},
   "outputs": [],
   "source": []
  }
 ],
 "metadata": {
  "kernelspec": {
   "display_name": "Python 3 (ipykernel)",
   "language": "python",
   "name": "python3"
  },
  "language_info": {
   "codemirror_mode": {
    "name": "ipython",
    "version": 3
   },
   "file_extension": ".py",
   "mimetype": "text/x-python",
   "name": "python",
   "nbconvert_exporter": "python",
   "pygments_lexer": "ipython3",
   "version": "3.12.0"
  }
 },
 "nbformat": 4,
 "nbformat_minor": 5
}
