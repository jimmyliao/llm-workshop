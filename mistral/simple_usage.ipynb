{
 "cells": [
  {
   "cell_type": "code",
   "execution_count": null,
   "metadata": {},
   "outputs": [],
   "source": [
    "!pip install -U mistralai"
   ]
  },
  {
   "cell_type": "code",
   "execution_count": 11,
   "metadata": {},
   "outputs": [
    {
     "name": "stdout",
     "output_type": "stream",
     "text": [
      "id='cmpl-f2936b87374d49bb8cbc5b71d2e9bc72' model='mistral-tiny' choices=[ChatCompletionResponseStreamChoice(index=0, delta=DeltaMessage(role='assistant', content=None), finish_reason=None)] created=None object=None usage=None\n",
      "id='cmpl-f2936b87374d49bb8cbc5b71d2e9bc72' model='mistral-tiny' choices=[ChatCompletionResponseStreamChoice(index=0, delta=DeltaMessage(role=None, content='In the heart of Taiwan, where the sun lightly'), finish_reason=None)] created=1704212538 object='chat.completion.chunk' usage=None\n",
      "id='cmpl-f2936b87374d49bb8cbc5b71d2e9bc72' model='mistral-tiny' choices=[ChatCompletionResponseStreamChoice(index=0, delta=DeltaMessage(role=None, content=' glows,\\n\\nLived a man named Jimmy,'), finish_reason=None)] created=1704212538 object='chat.completion.chunk' usage=None\n",
      "id='cmpl-f2936b87374d49bb8cbc5b71d2e9bc72' model='mistral-tiny' choices=[ChatCompletionResponseStreamChoice(index=0, delta=DeltaMessage(role=None, content=' with dreams that only grows.\\n\\nA painter, an author'), finish_reason=None)] created=1704212538 object='chat.completion.chunk' usage=None\n",
      "id='cmpl-f2936b87374d49bb8cbc5b71d2e9bc72' model='mistral-tiny' choices=[ChatCompletionResponseStreamChoice(index=0, delta=DeltaMessage(role=None, content=', a soul so bright,\\n\\nBringing joy'), finish_reason=None)] created=1704212538 object='chat.completion.chunk' usage=None\n",
      "id='cmpl-f2936b87374d49bb8cbc5b71d2e9bc72' model='mistral-tiny' choices=[ChatCompletionResponseStreamChoice(index=0, delta=DeltaMessage(role=None, content=' and wonder, to both day and night.\\n\\nWith brush'), finish_reason=None)] created=1704212538 object='chat.completion.chunk' usage=None\n",
      "id='cmpl-f2936b87374d49bb8cbc5b71d2e9bc72' model='mistral-tiny' choices=[ChatCompletionResponseStreamChoice(index=0, delta=DeltaMessage(role=None, content=' in hand, and pen by his side,\\n\\n'), finish_reason=None)] created=1704212538 object='chat.completion.chunk' usage=None\n",
      "id='cmpl-f2936b87374d49bb8cbc5b71d2e9bc72' model='mistral-tiny' choices=[ChatCompletionResponseStreamChoice(index=0, delta=DeltaMessage(role=None, content='He'), finish_reason=None)] created=1704212538 object='chat.completion.chunk' usage=None\n",
      "id='cmpl-f2936b87374d49bb8cbc5b71d2e9bc72' model='mistral-tiny' choices=[ChatCompletionResponseStreamChoice(index=0, delta=DeltaMessage(role=None, content=' painted stories, that words could not hide.\\n\\nHis characters'), finish_reason=None)] created=1704212538 object='chat.completion.chunk' usage=None\n",
      "id='cmpl-f2936b87374d49bb8cbc5b71d2e9bc72' model='mistral-tiny' choices=[ChatCompletionResponseStreamChoice(index=0, delta=DeltaMessage(role=None, content=' danced, in colors so bold,\\n\\nBeneath'), finish_reason=None)] created=1704212538 object='chat.completion.chunk' usage=None\n",
      "id='cmpl-f2936b87374d49bb8cbc5b71d2e9bc72' model='mistral-tiny' choices=[ChatCompletionResponseStreamChoice(index=0, delta=DeltaMessage(role=None, content=' the soft whispers, of a world untold.'), finish_reason=None)] created=1704212538 object='chat.completion.chunk' usage=None\n",
      "id='cmpl-f2936b87374d49bb8cbc5b71d2e9bc72' model='mistral-tiny' choices=[ChatCompletionResponseStreamChoice(index=0, delta=DeltaMessage(role=None, content=''), finish_reason=None)] created=1704212538 object='chat.completion.chunk' usage=None\n",
      "id='cmpl-f2936b87374d49bb8cbc5b71d2e9bc72' model='mistral-tiny' choices=[ChatCompletionResponseStreamChoice(index=0, delta=DeltaMessage(role=None, content='\\n\\n'), finish_reason=None)] created=1704212538 object='chat.completion.chunk' usage=None\n",
      "id='cmpl-f2936b87374d49bb8cbc5b71d2e9bc72' model='mistral-tiny' choices=[ChatCompletionResponseStreamChoice(index=0, delta=DeltaMessage(role=None, content=''), finish_reason=None)] created=1704212538 object='chat.completion.chunk' usage=None\n",
      "id='cmpl-f2936b87374d49bb8cbc5b71d2e9bc72' model='mistral-tiny' choices=[ChatCompletionResponseStreamChoice(index=0, delta=DeltaMessage(role=None, content='Through his art, he spoke, the language of the'), finish_reason=None)] created=1704212538 object='chat.completion.chunk' usage=None\n",
      "id='cmpl-f2936b87374d49bb8cbc5b71d2e9bc72' model='mistral-tiny' choices=[ChatCompletionResponseStreamChoice(index=0, delta=DeltaMessage(role=None, content=' heart,\\n\\nUnveiling the beauty, that lies'), finish_reason=None)] created=1704212538 object='chat.completion.chunk' usage=None\n",
      "id='cmpl-f2936b87374d49bb8cbc5b71d2e9bc72' model='mistral-tiny' choices=[ChatCompletionResponseStreamChoice(index=0, delta=DeltaMessage(role=None, content=' within'), finish_reason=None)] created=1704212538 object='chat.completion.chunk' usage=None\n",
      "id='cmpl-f2936b87374d49bb8cbc5b71d2e9bc72' model='mistral-tiny' choices=[ChatCompletionResponseStreamChoice(index=0, delta=DeltaMessage(role=None, content=' the start.\\n\\nA world of imagination, where dreams'), finish_reason=None)] created=1704212538 object='chat.completion.chunk' usage=None\n",
      "id='cmpl-f2936b87374d49bb8cbc5b71d2e9bc72' model='mistral-tiny' choices=[ChatCompletionResponseStreamChoice(index=0, delta=DeltaMessage(role=None, content=' take flight,\\n\\nFilled with laughter and love,'), finish_reason=None)] created=1704212538 object='chat.completion.chunk' usage=None\n",
      "id='cmpl-f2936b87374d49bb8cbc5b71d2e9bc72' model='mistral-tiny' choices=[ChatCompletionResponseStreamChoice(index=0, delta=DeltaMessage(role=None, content=' in the soft moonlight.\\n\\nJimmy Liao'), finish_reason=None)] created=1704212538 object='chat.completion.chunk' usage=None\n",
      "id='cmpl-f2936b87374d49bb8cbc5b71d2e9bc72' model='mistral-tiny' choices=[ChatCompletionResponseStreamChoice(index=0, delta=DeltaMessage(role=None, content=', a beacon of hope,\\n\\nIn the canvas'), finish_reason=None)] created=1704212538 object='chat.completion.chunk' usage=None\n",
      "id='cmpl-f2936b87374d49bb8cbc5b71d2e9bc72' model='mistral-tiny' choices=[ChatCompletionResponseStreamChoice(index=0, delta=DeltaMessage(role=None, content=' of life, his work is no hopeless cope.'), finish_reason=None)] created=1704212538 object='chat.completion.chunk' usage=None\n",
      "id='cmpl-f2936b87374d49bb8cbc5b71d2e9bc72' model='mistral-tiny' choices=[ChatCompletionResponseStreamChoice(index=0, delta=DeltaMessage(role=None, content='\\n\\n'), finish_reason=None)] created=1704212538 object='chat.completion.chunk' usage=None\n",
      "id='cmpl-f2936b87374d49bb8cbc5b71d2e9bc72' model='mistral-tiny' choices=[ChatCompletionResponseStreamChoice(index=0, delta=DeltaMessage(role=None, content='A reminder, that even in the darkest hour,\\n'), finish_reason=None)] created=1704212538 object='chat.completion.chunk' usage=None\n",
      "id='cmpl-f2936b87374d49bb8cbc5b71d2e9bc72' model='mistral-tiny' choices=[ChatCompletionResponseStreamChoice(index=0, delta=DeltaMessage(role=None, content='\\nThe power of creativity, can make dreams flower.\\n'), finish_reason=None)] created=1704212538 object='chat.completion.chunk' usage=None\n",
      "id='cmpl-f2936b87374d49bb8cbc5b71d2e9bc72' model='mistral-tiny' choices=[ChatCompletionResponseStreamChoice(index=0, delta=DeltaMessage(role=None, content='\\n'), finish_reason=None)] created=1704212538 object='chat.completion.chunk' usage=None\n",
      "id='cmpl-f2936b87374d49bb8cbc5b71d2e9bc72' model='mistral-tiny' choices=[ChatCompletionResponseStreamChoice(index=0, delta=DeltaMessage(role=None, content=\"So here's to Jimmy, whose spirit is free,\"), finish_reason=None)] created=1704212538 object='chat.completion.chunk' usage=None\n",
      "id='cmpl-f2936b87374d49bb8cbc5b71d2e9bc72' model='mistral-tiny' choices=[ChatCompletionResponseStreamChoice(index=0, delta=DeltaMessage(role=None, content='\\n\\nBringing joy and wonder, to you and'), finish_reason=None)] created=1704212538 object='chat.completion.chunk' usage=None\n",
      "id='cmpl-f2936b87374d49bb8cbc5b71d2e9bc72' model='mistral-tiny' choices=[ChatCompletionResponseStreamChoice(index=0, delta=DeltaMessage(role=None, content=' me.'), finish_reason=None)] created=1704212538 object='chat.completion.chunk' usage=None\n",
      "id='cmpl-f2936b87374d49bb8cbc5b71d2e9bc72' model='mistral-tiny' choices=[ChatCompletionResponseStreamChoice(index=0, delta=DeltaMessage(role=None, content=''), finish_reason=<FinishReason.stop: 'stop'>)] created=1704212538 object='chat.completion.chunk' usage=None\n"
     ]
    }
   ],
   "source": [
    "\n",
    "\n",
    "from mistralai.client import MistralClient\n",
    "from mistralai.models.chat_completion import ChatMessage\n",
    "\n",
    "api_key = os.environ[\"MISTRAL_API_KEY\"]\n",
    "model = \"mistral-tiny\"\n",
    "\n",
    "client = MistralClient(api_key=api_key)\n",
    "\n",
    "messages = [\n",
    "    ChatMessage(role=\"user\", content=\"Write a poem about Jimmy Liao.\"),\n",
    "]\n",
    "\n",
    "# No streaming\n",
    "chat_response = client.chat(\n",
    "    model=model,\n",
    "    messages=messages,\n",
    ")\n",
    "\n",
    "# With streaming\n",
    "for chunk in client.chat_stream(model=model, messages=messages):\n",
    "    print(chunk)\n"
   ]
  },
  {
   "cell_type": "code",
   "execution_count": null,
   "metadata": {},
   "outputs": [],
   "source": []
  }
 ],
 "metadata": {
  "kernelspec": {
   "display_name": "lab-bb-kb",
   "language": "python",
   "name": "python3"
  },
  "language_info": {
   "codemirror_mode": {
    "name": "ipython",
    "version": 3
   },
   "file_extension": ".py",
   "mimetype": "text/x-python",
   "name": "python",
   "nbconvert_exporter": "python",
   "pygments_lexer": "ipython3",
   "version": "3.11.5"
  }
 },
 "nbformat": 4,
 "nbformat_minor": 2
}
