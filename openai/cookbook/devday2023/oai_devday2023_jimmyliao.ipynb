{
 "cells": [
  {
   "cell_type": "code",
   "execution_count": 1,
   "metadata": {},
   "outputs": [],
   "source": [
    "## use getpass to read password, also save to the enviroment variable\n",
    "import os, requests, json\n",
    "from pprint import pp\n",
    "import getpass\n",
    "\n",
    "os.environ['OPENAI_API_KEY'] = getpass.getpass('Enter your OpenAI API key:')"
   ]
  },
  {
   "cell_type": "markdown",
   "metadata": {},
   "source": [
    "### Helper functions"
   ]
  },
  {
   "cell_type": "code",
   "execution_count": null,
   "metadata": {},
   "outputs": [],
   "source": [
    "def get_completion(messages, model='gpt-3.5-turbo', temperature=0, max_tokens=300):\n",
    "    api_url = 'https://api.openai.com/v1/chat/completions'\n",
    "\n",
    "    payload = {\n",
    "        \"model\": model,\n",
    "        \"max_tokens\": max_tokens,\n",
    "        \"temperature\": temperature,\n",
    "        \"messages\": messages,\n",
    "    }\n",
    "\n",
    "    headers = {\n",
    "        \"Authorization\": f\"Bearer {os.environ['OPENAI_API_KEY']}\",\n",
    "        \"Content-Type\": \"application/json\",\n",
    "    }\n",
    "\n",
    "    response = requests.post(api_url, headers=headers, data=json.dumps(payload), timeout=60)\n",
    "\n",
    "    resp_text = json.loads(response.text)\n",
    "    resp_status = response.status_code\n",
    "    print(resp_text)\n",
    "    print(resp_status)\n",
    "    if resp_status == 200:\n",
    "        return resp_text[\"choices\"][0][\"message\"][\"content\"]\n",
    "    else:\n",
    "        return resp_text[\"error\"]['message']"
   ]
  },
  {
   "cell_type": "markdown",
   "metadata": {},
   "source": [
    "### GPT-4 Vision Experiment"
   ]
  },
  {
   "cell_type": "code",
   "execution_count": 61,
   "metadata": {},
   "outputs": [
    {
     "data": {
      "text/html": [
       "<img src=\"https://fastly.picsum.photos/id/240/800/1280.jpg?hmac=zEDHktWmEIGP-lxrRfE7I8RS0Zt6mIf4JIjT2vuyKxA\" width=\"200\" height=\"300\"/>"
      ],
      "text/plain": [
       "<IPython.core.display.Image object>"
      ]
     },
     "execution_count": 61,
     "metadata": {},
     "output_type": "execute_result"
    }
   ],
   "source": [
    "## preview the image_url\n",
    "from IPython.display import Image\n",
    "request_image_url = 'https://picsum.photos/800/1280'\n",
    "response = requests.get(request_image_url, allow_redirects=True)\n",
    "image_url = response.url\n",
    "\n",
    "Image(url=image_url, width=200, height=300)\n",
    "\n"
   ]
  },
  {
   "cell_type": "code",
   "execution_count": 62,
   "metadata": {},
   "outputs": [
    {
     "name": "stdout",
     "output_type": "stream",
     "text": [
      "{'id': 'chatcmpl-8ITfwgjHp3sLICR5PmUV6LVBobiT7', 'object': 'chat.completion', 'created': 1699414668, 'model': 'gpt-4-1106-vision-preview', 'usage': {'prompt_tokens': 1128, 'completion_tokens': 108, 'total_tokens': 1236}, 'choices': [{'message': {'role': 'assistant', 'content': '這張黑白照片展示了一堵老舊的石牆，部分浸在水中。牆面上有磨損跡象，不同大小的石塊堆砌而成，顯示出時間的痕跡。牆角有一小撮頑強的植物生長，增添了一絲生命力。'}, 'finish_details': {'type': 'stop', 'stop': '<|fim_suffix|>'}, 'index': 0}]}\n",
      "200\n"
     ]
    },
    {
     "data": {
      "text/plain": [
       "'這張黑白照片展示了一堵老舊的石牆，部分浸在水中。牆面上有磨損跡象，不同大小的石塊堆砌而成，顯示出時間的痕跡。牆角有一小撮頑強的植物生長，增添了一絲生命力。'"
      ]
     },
     "execution_count": 62,
     "metadata": {},
     "output_type": "execute_result"
    }
   ],
   "source": [
    "messages = [\n",
    "    {\n",
    "        \"role\": \"user\",\n",
    "        \"content\": [\n",
    "            {\n",
    "                \"type\": \"text\",\n",
    "                \"text\": \"請以100字內描述這張照片\"\n",
    "            },\n",
    "            {\n",
    "                \"type\": \"image_url\",\n",
    "                \"image_url\": image_url\n",
    "            }\n",
    "        ],\n",
    "    }\n",
    "]\n",
    "\n",
    "completion = get_completion(messages, model='gpt-4-vision-preview')\n",
    "completion"
   ]
  },
  {
   "cell_type": "markdown",
   "metadata": {},
   "source": [
    "### Assistant API Demo"
   ]
  },
  {
   "cell_type": "code",
   "execution_count": 12,
   "metadata": {},
   "outputs": [
    {
     "name": "stdout",
     "output_type": "stream",
     "text": [
      "file_id: file-lkpTm2i3nUllocWdQYDadYEF, file_name: 2305.06983.pdf\n"
     ]
    }
   ],
   "source": [
    "# OpenAI assistant API with retrieval\n",
    "\n",
    "## pdf from arXiv: https://arxiv.org/pdf/2305.06983.pdf\n",
    "\n",
    "doc_source = 'https://arxiv.org/pdf/2305.06983.pdf'\n",
    "\n",
    "filename = doc_source.split('/')[-1]\n",
    "\n",
    "## check if the file exists\n",
    "import os.path\n",
    "if not os.path.isfile(filename):\n",
    "    # wget with specific user agent\n",
    "    !wget -U \"Mozilla/5.0\" -O $filename $doc_source\n",
    "    print('downloaded file:', filename)    \n",
    "    \n",
    "\n",
    "files = [\n",
    "    ('file',\n",
    "      (\n",
    "          filename,\n",
    "          open(filename, 'rb'),\n",
    "          \"application/octet-stream\"\n",
    "      )\n",
    "    )\n",
    "]\n",
    "\n",
    "headers = {\n",
    "    \"Authorization\": f\"Bearer {os.environ['OPENAI_API_KEY']}\",\n",
    "}\n",
    "\n",
    "data = {\n",
    "    \"purpose\": \"assistants\",    \n",
    "}\n",
    "\n",
    "## List the files\n",
    "# response = requests.get('https://api.openai.com/v1/files', headers=headers)\n",
    "# print(json.loads(response.text))\n",
    "\n",
    "### Upload the file to OpenAI\n",
    "\n",
    "response = requests.post('https://api.openai.com/v1/files', headers=headers, data=data, files=files)\n",
    "\n",
    "# print(json.loads(response.text))\n",
    "\n",
    "## Get file id and save to the environment variable\n",
    "file_id = json.loads(response.text)['id']\n",
    "file_name = json.loads(response.text)['filename']\n",
    "os.environ['OPENAI_FILE_ID'] = file_id\n",
    "\n",
    "print(f\"file_id: {file_id}, file_name: {file_name}\")\n",
    "\n"
   ]
  },
  {
   "cell_type": "code",
   "execution_count": 9,
   "metadata": {},
   "outputs": [
    {
     "name": "stdout",
     "output_type": "stream",
     "text": [
      "{'object': 'list', 'has_more': False, 'data': [{'object': 'file', 'id': 'file-O7qYlk7YxW01KtI4n0hZrVpl', 'purpose': 'assistants', 'filename': '2305.06983.pdf', 'bytes': 850866, 'created_at': 1699418087, 'status': 'processed', 'status_details': None}, {'object': 'file', 'id': 'file-ffoOkEmb5gj3djWxvMJP8xYJ', 'purpose': 'fine-tune-results', 'filename': 'compiled_results.csv', 'bytes': 215048, 'created_at': 1675331528, 'status': 'processed', 'status_details': None}, {'object': 'file', 'id': 'file-XJ67TkoFSKM6QgwzsEr03YOl', 'purpose': 'fine-tune', 'filename': 'sport2_prepared_valid.jsonl', 'bytes': 387349, 'created_at': 1675330133, 'status': 'processed', 'status_details': None}, {'object': 'file', 'id': 'file-0oYDxq1R5WgoGuMTHvcVXGYR', 'purpose': 'fine-tune', 'filename': 'sport2_prepared_train.jsonl', 'bytes': 1519036, 'created_at': 1675330131, 'status': 'processed', 'status_details': None}, {'object': 'file', 'id': 'file-xREhbH04eGaasZCkwtQo8kpm', 'purpose': 'fine-tune', 'filename': 'sport2_prepared_valid.jsonl', 'bytes': 387349, 'created_at': 1675328948, 'status': 'processed', 'status_details': None}, {'object': 'file', 'id': 'file-BNNXhpyv7WRbFP90Vh3M9cog', 'purpose': 'fine-tune', 'filename': 'sport2_prepared_train.jsonl', 'bytes': 1519036, 'created_at': 1675328946, 'status': 'processed', 'status_details': None}]}\n"
     ]
    }
   ],
   "source": [
    "## List the files\n",
    "response = requests.get('https://api.openai.com/v1/files', headers=headers)\n",
    "print(json.loads(response.text))\n"
   ]
  },
  {
   "cell_type": "code",
   "execution_count": 16,
   "metadata": {},
   "outputs": [
    {
     "name": "stdout",
     "output_type": "stream",
     "text": [
      "{'id': 'asst_OeaBs0p9ktOOrc7PlQkr0hj1', 'object': 'assistant', 'created_at': 1699420124, 'name': 'jimmyliao-assistant-1', 'description': None, 'model': 'gpt-4-1106-preview', 'instructions': '\\n    You are a customer support chatbot. Use your knowledge base to best respond to customer queries.\\n', 'tools': [{'type': 'retrieval'}], 'file_ids': ['file-lkpTm2i3nUllocWdQYDadYEF'], 'metadata': {}}\n"
     ]
    }
   ],
   "source": [
    "\n",
    "## Create the assistant with retrieval\n",
    "\n",
    "headers = {\n",
    "    \"Authorization\": f\"Bearer {os.environ['OPENAI_API_KEY']}\",\n",
    "    \"Content-Type\": \"application/json\",\n",
    "    \"OpenAI-Beta\": \"assistants=v1\",\n",
    "}\n",
    "\n",
    "assistant_name = 'jimmyliao-assistant-1'\n",
    "instructions = \"\"\"\n",
    "    You are a customer support chatbot. Use your knowledge base to best respond to customer queries.\n",
    "\"\"\"\n",
    "\n",
    "payload = {\n",
    "    \"model\": \"gpt-4-1106-preview\", \n",
    "    \"name\": assistant_name, \n",
    "    \"tools\": [{\"type\": \"retrieval\"}],\n",
    "    \"instructions\": instructions,\n",
    "    \"file_ids\": [file_id],\n",
    "}\n",
    "\n",
    "response = requests.post('https://api.openai.com/v1/assistants', headers=headers, data=json.dumps(payload))\n",
    "\n",
    "assistant_id = json.loads(response.text)['id']\n",
    "print(json.loads(response.text))\n",
    "\n"
   ]
  },
  {
   "cell_type": "code",
   "execution_count": 17,
   "metadata": {},
   "outputs": [
    {
     "name": "stdout",
     "output_type": "stream",
     "text": [
      "{'id': 'thread_NTITVeCl4gQaJ987OKX8ConB', 'object': 'thread', 'created_at': 1699420136, 'metadata': {}}\n"
     ]
    }
   ],
   "source": [
    "## Create thread \n",
    "\n",
    "headers = {\n",
    "    \"Authorization\": f\"Bearer {os.environ['OPENAI_API_KEY']}\",\n",
    "    \"Content-Type\": \"application/json\",\n",
    "    \"OpenAI-Beta\": \"assistants=v1\",\n",
    "}\n",
    "\n",
    "payload = { \"messages\": [ { \"role\": \"user\", \"content\": \"請問這篇文章的作者有哪些人?\"} ] }\n",
    "\n",
    "response = requests.post('https://api.openai.com/v1/threads', headers=headers, data=json.dumps(payload))\n",
    "\n",
    "thread_id = json.loads(response.text)['id']\n",
    "\n",
    "print(json.loads(response.text))"
   ]
  },
  {
   "cell_type": "code",
   "execution_count": 21,
   "metadata": {},
   "outputs": [
    {
     "name": "stdout",
     "output_type": "stream",
     "text": [
      "{'id': 'run_aDjHtRXlAPqehaiTCmrGK5Ha', 'object': 'thread.run', 'created_at': 1699420265, 'assistant_id': 'asst_OeaBs0p9ktOOrc7PlQkr0hj1', 'thread_id': 'thread_NTITVeCl4gQaJ987OKX8ConB', 'status': 'queued', 'started_at': None, 'expires_at': 1699420865, 'cancelled_at': None, 'failed_at': None, 'completed_at': None, 'last_error': None, 'model': 'gpt-4-1106-preview', 'instructions': '\\n    You are a customer support chatbot. Use your knowledge base to best respond to customer queries.\\n', 'tools': [{'type': 'retrieval'}], 'file_ids': ['file-lkpTm2i3nUllocWdQYDadYEF'], 'metadata': {}}\n"
     ]
    }
   ],
   "source": [
    "## Execute (assistant + thread).run, and get the response\n",
    "\n",
    "payload = {\n",
    "    \"assistant_id\": assistant_id,\n",
    "    # \"thread_id\": thread_id,\n",
    "}\n",
    "\n",
    "headers = {\n",
    "    \"Authorization\": f\"Bearer {os.environ['OPENAI_API_KEY']}\",\n",
    "    \"Content-Type\": \"application/json\",\n",
    "    \"OpenAI-Beta\": \"assistants=v1\",\n",
    "}\n",
    "\n",
    "response = requests.post(f\"https://api.openai.com/v1/threads/{thread_id}/runs\", headers = headers, data = json.dumps(payload) )\n",
    "obj = json.loads(response.text)\n",
    "\n",
    "run_id = obj['id']\n",
    "print(obj)\n",
    "\n",
    "\n"
   ]
  },
  {
   "cell_type": "code",
   "execution_count": 22,
   "metadata": {},
   "outputs": [],
   "source": [
    "## Monitor the run status\n",
    "\n",
    "headers = {\n",
    "    \"Authorization\": f\"Bearer {os.environ['OPENAI_API_KEY']}\",\n",
    "    \"Content-Type\": \"application/json\",\n",
    "    \"OpenAI-Beta\": \"assistants=v1\",\n",
    "}\n",
    "\n",
    "response = requests.get(f\"https://api.openai.com/v1/threads/{thread_id}/runs/{run_id}\", headers = headers)\n",
    "\n",
    "obj = json.loads(response.text)\n"
   ]
  },
  {
   "cell_type": "code",
   "execution_count": 27,
   "metadata": {},
   "outputs": [
    {
     "name": "stdout",
     "output_type": "stream",
     "text": [
      "{'object': 'list',\n",
      " 'data': [{'id': 'msg_MH8wUFpqL6cZpBWwEyh8zPf2',\n",
      "           'object': 'thread.message',\n",
      "           'created_at': 1699420266,\n",
      "           'thread_id': 'thread_NTITVeCl4gQaJ987OKX8ConB',\n",
      "           'role': 'assistant',\n",
      "           'content': [{'type': 'text',\n",
      "                        'text': {'value': 'It appears that there is an issue '\n",
      "                                          'with the file you uploaded. The '\n",
      "                                          'browsing display did not show any '\n",
      "                                          'content, which may indicate a '\n",
      "                                          'problem with accessing the file. '\n",
      "                                          'Could you please confirm if the '\n",
      "                                          'file is in a readable format such '\n",
      "                                          'as PDF, DOCX, or TXT and try '\n",
      "                                          'uploading it again? This will '\n",
      "                                          'enable me to assist you in finding '\n",
      "                                          'the authors of the article.',\n",
      "                                 'annotations': []}}],\n",
      "           'file_ids': [],\n",
      "           'assistant_id': 'asst_OeaBs0p9ktOOrc7PlQkr0hj1',\n",
      "           'run_id': 'run_aDjHtRXlAPqehaiTCmrGK5Ha',\n",
      "           'metadata': {}},\n",
      "          {'id': 'msg_o6K8bLqHMxpCCnnDeFHUeTMA',\n",
      "           'object': 'thread.message',\n",
      "           'created_at': 1699420224,\n",
      "           'thread_id': 'thread_NTITVeCl4gQaJ987OKX8ConB',\n",
      "           'role': 'assistant',\n",
      "           'content': [{'type': 'text',\n",
      "                        'text': {'value': 'It appears that there is an issue '\n",
      "                                          'with the file you uploaded. The '\n",
      "                                          'browsing display did not show any '\n",
      "                                          'content, which may indicate a '\n",
      "                                          'problem with accessing the file. '\n",
      "                                          'Could you please confirm if the '\n",
      "                                          'file is in a readable format such '\n",
      "                                          'as PDF, DOCX, or TXT and try '\n",
      "                                          'uploading it again or provide the '\n",
      "                                          'text in a different way? I need '\n",
      "                                          'proper access to the content of the '\n",
      "                                          'file to assist you in finding the '\n",
      "                                          'authors of the article.',\n",
      "                                 'annotations': []}}],\n",
      "           'file_ids': [],\n",
      "           'assistant_id': 'asst_OeaBs0p9ktOOrc7PlQkr0hj1',\n",
      "           'run_id': 'run_ul4d3raYpmXiCXPLsOUT2YTa',\n",
      "           'metadata': {}},\n",
      "          {'id': 'msg_KaEgc6IRdJP5ZdxxYnvqH25G',\n",
      "           'object': 'thread.message',\n",
      "           'created_at': 1699420187,\n",
      "           'thread_id': 'thread_NTITVeCl4gQaJ987OKX8ConB',\n",
      "           'role': 'assistant',\n",
      "           'content': [{'type': 'text',\n",
      "                        'text': {'value': '抱歉，您提供的文件似乎無法通過我的文件瀏覽器進行查閱。這可能是由於文件格式不兼容、文件損壞或系統錯誤。可以請您提供文章的文本內容或尝试再次上传文件嗎？這樣我才能幫您找到文章的作者信息。',\n",
      "                                 'annotations': []}}],\n",
      "           'file_ids': [],\n",
      "           'assistant_id': 'asst_OeaBs0p9ktOOrc7PlQkr0hj1',\n",
      "           'run_id': 'run_vmfgPPUlPBJAcYGbt93QMFVK',\n",
      "           'metadata': {}},\n",
      "          {'id': 'msg_zCgct4U7llYNgzbOjoPszsoD',\n",
      "           'object': 'thread.message',\n",
      "           'created_at': 1699420136,\n",
      "           'thread_id': 'thread_NTITVeCl4gQaJ987OKX8ConB',\n",
      "           'role': 'user',\n",
      "           'content': [{'type': 'text',\n",
      "                        'text': {'value': '請問這篇文章的作者有哪些人?',\n",
      "                                 'annotations': []}}],\n",
      "           'file_ids': [],\n",
      "           'assistant_id': None,\n",
      "           'run_id': None,\n",
      "           'metadata': {}}],\n",
      " 'first_id': 'msg_MH8wUFpqL6cZpBWwEyh8zPf2',\n",
      " 'last_id': 'msg_zCgct4U7llYNgzbOjoPszsoD',\n",
      " 'has_more': False}\n"
     ]
    }
   ],
   "source": [
    "## Get the assistant response from thread\n",
    "\n",
    "headers = { \"Authorization\": f\"Bearer {os.environ['OPENAI_API_KEY']}\", \"Content-Type\": \"application/json\", \"OpenAI-Beta\": \"assistants=v1\" }\n",
    "response = requests.get(f\"https://api.openai.com/v1/threads/{thread_id}/messages\", headers = headers )\n",
    "obj = json.loads(response.text)\n",
    "\n",
    "pp(obj)\n"
   ]
  },
  {
   "cell_type": "code",
   "execution_count": 28,
   "metadata": {},
   "outputs": [
    {
     "name": "stdout",
     "output_type": "stream",
     "text": [
      "{'object': 'list',\n",
      " 'data': [{'id': 'msg_MH8wUFpqL6cZpBWwEyh8zPf2',\n",
      "           'object': 'thread.message',\n",
      "           'created_at': 1699420266,\n",
      "           'thread_id': 'thread_NTITVeCl4gQaJ987OKX8ConB',\n",
      "           'role': 'assistant',\n",
      "           'content': [{'type': 'text',\n",
      "                        'text': {'value': 'It appears that there is an issue '\n",
      "                                          'with the file you uploaded. The '\n",
      "                                          'browsing display did not show any '\n",
      "                                          'content, which may indicate a '\n",
      "                                          'problem with accessing the file. '\n",
      "                                          'Could you please confirm if the '\n",
      "                                          'file is in a readable format such '\n",
      "                                          'as PDF, DOCX, or TXT and try '\n",
      "                                          'uploading it again? This will '\n",
      "                                          'enable me to assist you in finding '\n",
      "                                          'the authors of the article.',\n",
      "                                 'annotations': []}}],\n",
      "           'file_ids': [],\n",
      "           'assistant_id': 'asst_OeaBs0p9ktOOrc7PlQkr0hj1',\n",
      "           'run_id': 'run_aDjHtRXlAPqehaiTCmrGK5Ha',\n",
      "           'metadata': {}},\n",
      "          {'id': 'msg_o6K8bLqHMxpCCnnDeFHUeTMA',\n",
      "           'object': 'thread.message',\n",
      "           'created_at': 1699420224,\n",
      "           'thread_id': 'thread_NTITVeCl4gQaJ987OKX8ConB',\n",
      "           'role': 'assistant',\n",
      "           'content': [{'type': 'text',\n",
      "                        'text': {'value': 'It appears that there is an issue '\n",
      "                                          'with the file you uploaded. The '\n",
      "                                          'browsing display did not show any '\n",
      "                                          'content, which may indicate a '\n",
      "                                          'problem with accessing the file. '\n",
      "                                          'Could you please confirm if the '\n",
      "                                          'file is in a readable format such '\n",
      "                                          'as PDF, DOCX, or TXT and try '\n",
      "                                          'uploading it again or provide the '\n",
      "                                          'text in a different way? I need '\n",
      "                                          'proper access to the content of the '\n",
      "                                          'file to assist you in finding the '\n",
      "                                          'authors of the article.',\n",
      "                                 'annotations': []}}],\n",
      "           'file_ids': [],\n",
      "           'assistant_id': 'asst_OeaBs0p9ktOOrc7PlQkr0hj1',\n",
      "           'run_id': 'run_ul4d3raYpmXiCXPLsOUT2YTa',\n",
      "           'metadata': {}},\n",
      "          {'id': 'msg_KaEgc6IRdJP5ZdxxYnvqH25G',\n",
      "           'object': 'thread.message',\n",
      "           'created_at': 1699420187,\n",
      "           'thread_id': 'thread_NTITVeCl4gQaJ987OKX8ConB',\n",
      "           'role': 'assistant',\n",
      "           'content': [{'type': 'text',\n",
      "                        'text': {'value': '抱歉，您提供的文件似乎無法通過我的文件瀏覽器進行查閱。這可能是由於文件格式不兼容、文件損壞或系統錯誤。可以請您提供文章的文本內容或尝试再次上传文件嗎？這樣我才能幫您找到文章的作者信息。',\n",
      "                                 'annotations': []}}],\n",
      "           'file_ids': [],\n",
      "           'assistant_id': 'asst_OeaBs0p9ktOOrc7PlQkr0hj1',\n",
      "           'run_id': 'run_vmfgPPUlPBJAcYGbt93QMFVK',\n",
      "           'metadata': {}},\n",
      "          {'id': 'msg_zCgct4U7llYNgzbOjoPszsoD',\n",
      "           'object': 'thread.message',\n",
      "           'created_at': 1699420136,\n",
      "           'thread_id': 'thread_NTITVeCl4gQaJ987OKX8ConB',\n",
      "           'role': 'user',\n",
      "           'content': [{'type': 'text',\n",
      "                        'text': {'value': '請問這篇文章的作者有哪些人?',\n",
      "                                 'annotations': []}}],\n",
      "           'file_ids': [],\n",
      "           'assistant_id': None,\n",
      "           'run_id': None,\n",
      "           'metadata': {}}],\n",
      " 'first_id': 'msg_MH8wUFpqL6cZpBWwEyh8zPf2',\n",
      " 'last_id': 'msg_zCgct4U7llYNgzbOjoPszsoD',\n",
      " 'has_more': False}\n"
     ]
    }
   ],
   "source": [
    "headers = { \"Authorization\": f\"Bearer {os.environ['OPENAI_API_KEY']}\", \"Content-Type\": \"application/json\", \"OpenAI-Beta\": \"assistants=v1\" }\n",
    "response = requests.get(f\"https://api.openai.com/v1/threads/{thread_id}/messages\", headers = headers )\n",
    "obj = json.loads(response.text)\n",
    "\n",
    "pp(obj)\n"
   ]
  },
  {
   "cell_type": "code",
   "execution_count": 29,
   "metadata": {},
   "outputs": [
    {
     "name": "stdout",
     "output_type": "stream",
     "text": [
      "{'object': 'list',\n",
      " 'data': [{'id': 'msg_RR5oVMySTliFVMrS6KSR2kLW',\n",
      "           'object': 'thread.message',\n",
      "           'created_at': 1699420857,\n",
      "           'thread_id': 'thread_Do4zOxniV1RXHbQB3nRoQhql',\n",
      "           'role': 'assistant',\n",
      "           'content': [{'type': 'text',\n",
      "                        'text': {'value': 'The title of the document is '\n",
      "                                          '\"Active Retrieval Augmented '\n",
      "                                          'Generation\"【9†source】.',\n",
      "                                 'annotations': []}}],\n",
      "           'file_ids': [],\n",
      "           'assistant_id': 'asst_OeaBs0p9ktOOrc7PlQkr0hj1',\n",
      "           'run_id': 'run_6A71wzKlRXkZ9t5XcHbI926Z',\n",
      "           'metadata': {}},\n",
      "          {'id': 'msg_AjdmIeF6Q2TY75AuzKaArbhI',\n",
      "           'object': 'thread.message',\n",
      "           'created_at': 1699420853,\n",
      "           'thread_id': 'thread_Do4zOxniV1RXHbQB3nRoQhql',\n",
      "           'role': 'user',\n",
      "           'content': [{'type': 'text',\n",
      "                        'text': {'value': 'What is the title of the document?',\n",
      "                                 'annotations': []}}],\n",
      "           'file_ids': [],\n",
      "           'assistant_id': None,\n",
      "           'run_id': None,\n",
      "           'metadata': {}}],\n",
      " 'first_id': 'msg_RR5oVMySTliFVMrS6KSR2kLW',\n",
      " 'last_id': 'msg_AjdmIeF6Q2TY75AuzKaArbhI',\n",
      " 'has_more': False}\n"
     ]
    }
   ],
   "source": [
    "\n"
   ]
  },
  {
   "cell_type": "code",
   "execution_count": 30,
   "metadata": {},
   "outputs": [
    {
     "name": "stdout",
     "output_type": "stream",
     "text": [
      "{'id': 'msg_M7GUJX7NW70OETlzA7d0zOeD', 'object': 'thread.message', 'created_at': 1699421074, 'thread_id': 'thread_Do4zOxniV1RXHbQB3nRoQhql', 'role': 'user', 'content': [{'type': 'text', 'text': {'value': '有哪些作者？', 'annotations': []}}], 'file_ids': [], 'assistant_id': None, 'run_id': None, 'metadata': {}}\n"
     ]
    }
   ],
   "source": [
    "## Add a new message to the thread\n",
    "\n",
    "\n",
    "payload = { \"role\": \"user\", \"content\": \"有哪些作者？\" }\n",
    "headers = { \"Authorization\": f\"Bearer {os.environ['OPENAI_API_KEY']}\", \"Content-Type\": \"application/json\", \"OpenAI-Beta\": \"assistants=v1\" }\n",
    "response = requests.post(f\"https://api.openai.com/v1/threads/{thread_id}/messages\", headers = headers, data = json.dumps(payload) )\n",
    "obj = json.loads(response.text)\n",
    "\n",
    "print(obj)\n",
    "\n",
    "\n"
   ]
  },
  {
   "cell_type": "code",
   "execution_count": 33,
   "metadata": {},
   "outputs": [
    {
     "data": {
      "text/plain": [
       "{'id': 'msg_M7GUJX7NW70OETlzA7d0zOeD',\n",
       " 'object': 'thread.message',\n",
       " 'created_at': 1699421074,\n",
       " 'thread_id': 'thread_Do4zOxniV1RXHbQB3nRoQhql',\n",
       " 'role': 'user',\n",
       " 'content': [{'type': 'text', 'text': {'value': '有哪些作者？', 'annotations': []}}],\n",
       " 'file_ids': [],\n",
       " 'assistant_id': None,\n",
       " 'run_id': None,\n",
       " 'metadata': {}}"
      ]
     },
     "execution_count": 33,
     "metadata": {},
     "output_type": "execute_result"
    }
   ],
   "source": [
    "## Get the assistant response from thread with message id\n",
    "\n",
    "headers = { \"Authorization\": f\"Bearer {os.environ['OPENAI_API_KEY']}\", \"Content-Type\": \"application/json\", \"OpenAI-Beta\": \"assistants=v1\" }\n",
    "\n",
    "response = requests.get(f\"https://api.openai.com/v1/threads/{thread_id}/messages/{obj['id']}\", headers = headers )\n",
    "\n",
    "obj = json.loads(response.text)\n",
    "\n",
    "obj\n"
   ]
  },
  {
   "cell_type": "code",
   "execution_count": 34,
   "metadata": {},
   "outputs": [
    {
     "name": "stdout",
     "output_type": "stream",
     "text": [
      "{'object': 'list',\n",
      " 'data': [{'id': 'msg_M7GUJX7NW70OETlzA7d0zOeD',\n",
      "           'object': 'thread.message',\n",
      "           'created_at': 1699421074,\n",
      "           'thread_id': 'thread_Do4zOxniV1RXHbQB3nRoQhql',\n",
      "           'role': 'user',\n",
      "           'content': [{'type': 'text',\n",
      "                        'text': {'value': '有哪些作者？', 'annotations': []}}],\n",
      "           'file_ids': [],\n",
      "           'assistant_id': None,\n",
      "           'run_id': None,\n",
      "           'metadata': {}},\n",
      "          {'id': 'msg_RR5oVMySTliFVMrS6KSR2kLW',\n",
      "           'object': 'thread.message',\n",
      "           'created_at': 1699420857,\n",
      "           'thread_id': 'thread_Do4zOxniV1RXHbQB3nRoQhql',\n",
      "           'role': 'assistant',\n",
      "           'content': [{'type': 'text',\n",
      "                        'text': {'value': 'The title of the document is '\n",
      "                                          '\"Active Retrieval Augmented '\n",
      "                                          'Generation\"【9†source】.',\n",
      "                                 'annotations': []}}],\n",
      "           'file_ids': [],\n",
      "           'assistant_id': 'asst_OeaBs0p9ktOOrc7PlQkr0hj1',\n",
      "           'run_id': 'run_6A71wzKlRXkZ9t5XcHbI926Z',\n",
      "           'metadata': {}},\n",
      "          {'id': 'msg_AjdmIeF6Q2TY75AuzKaArbhI',\n",
      "           'object': 'thread.message',\n",
      "           'created_at': 1699420853,\n",
      "           'thread_id': 'thread_Do4zOxniV1RXHbQB3nRoQhql',\n",
      "           'role': 'user',\n",
      "           'content': [{'type': 'text',\n",
      "                        'text': {'value': 'What is the title of the document?',\n",
      "                                 'annotations': []}}],\n",
      "           'file_ids': [],\n",
      "           'assistant_id': None,\n",
      "           'run_id': None,\n",
      "           'metadata': {}}],\n",
      " 'first_id': 'msg_M7GUJX7NW70OETlzA7d0zOeD',\n",
      " 'last_id': 'msg_AjdmIeF6Q2TY75AuzKaArbhI',\n",
      " 'has_more': False}\n"
     ]
    }
   ],
   "source": [
    "## Get the assistant response from thread\n",
    "\n",
    "headers = { \"Authorization\": f\"Bearer {os.environ['OPENAI_API_KEY']}\", \"Content-Type\": \"application/json\", \"OpenAI-Beta\": \"assistants=v1\" }\n",
    "response = requests.get(f\"https://api.openai.com/v1/threads/{thread_id}/messages\", headers = headers )\n",
    "obj = json.loads(response.text)\n",
    "\n",
    "pp(obj)\n"
   ]
  },
  {
   "cell_type": "code",
   "execution_count": null,
   "metadata": {},
   "outputs": [],
   "source": []
  }
 ],
 "metadata": {
  "kernelspec": {
   "display_name": "llm-workshop",
   "language": "python",
   "name": "python3"
  },
  "language_info": {
   "codemirror_mode": {
    "name": "ipython",
    "version": 3
   },
   "file_extension": ".py",
   "mimetype": "text/x-python",
   "name": "python",
   "nbconvert_exporter": "python",
   "pygments_lexer": "ipython3",
   "version": "3.12.0"
  }
 },
 "nbformat": 4,
 "nbformat_minor": 2
}
