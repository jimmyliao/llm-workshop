{
 "cells": [
  {
   "cell_type": "code",
   "execution_count": null,
   "metadata": {},
   "outputs": [],
   "source": [
    "## use getpass to read password, also save to the enviroment variable\n",
    "import os, requests, json\n",
    "from pprint import pp\n",
    "import getpass\n",
    "\n",
    "os.environ['OPENAI_API_KEY'] = getpass.getpass('Enter your OpenAI API key:')"
   ]
  },
  {
   "cell_type": "markdown",
   "metadata": {},
   "source": [
    "### Helper functions"
   ]
  },
  {
   "cell_type": "code",
   "execution_count": null,
   "metadata": {},
   "outputs": [],
   "source": [
    "def get_completion(messages, model='gpt-3.5-turbo', temperature=0, max_tokens=300):\n",
    "    api_url = 'https://api.openai.com/v1/chat/completions'\n",
    "\n",
    "    payload = {\n",
    "        \"model\": model,\n",
    "        \"max_tokens\": max_tokens,\n",
    "        \"temperature\": temperature,\n",
    "        \"messages\": messages,\n",
    "    }\n",
    "\n",
    "    headers = {\n",
    "        \"Authorization\": f\"Bearer {os.environ['OPENAI_API_KEY']}\",\n",
    "        \"Content-Type\": \"application/json\",\n",
    "    }\n",
    "\n",
    "    response = requests.post(api_url, headers=headers, data=json.dumps(payload), timeout=60)\n",
    "\n",
    "    resp_text = json.loads(response.text)\n",
    "    resp_status = response.status_code\n",
    "    print(resp_text)\n",
    "    print(resp_status)\n",
    "    if resp_status == 200:\n",
    "        return resp_text[\"choices\"][0][\"message\"][\"content\"]\n",
    "    else:\n",
    "        return resp_text[\"error\"]['message']"
   ]
  },
  {
   "cell_type": "markdown",
   "metadata": {},
   "source": [
    "### GPT-4 Vision Experiment"
   ]
  },
  {
   "cell_type": "code",
   "execution_count": null,
   "metadata": {},
   "outputs": [],
   "source": [
    "## preview the image_url\n",
    "from IPython.display import Image\n",
    "request_image_url = 'https://picsum.photos/800/1280'\n",
    "response = requests.get(request_image_url, allow_redirects=True)\n",
    "image_url = response.url\n",
    "\n",
    "Image(url=image_url, width=200, height=300)\n",
    "\n"
   ]
  },
  {
   "cell_type": "code",
   "execution_count": null,
   "metadata": {},
   "outputs": [],
   "source": [
    "messages = [\n",
    "    {\n",
    "        \"role\": \"user\",\n",
    "        \"content\": [\n",
    "            {\n",
    "                \"type\": \"text\",\n",
    "                \"text\": \"請以100字內描述這張照片\"\n",
    "            },\n",
    "            {\n",
    "                \"type\": \"image_url\",\n",
    "                \"image_url\": image_url\n",
    "            }\n",
    "        ],\n",
    "    }\n",
    "]\n",
    "\n",
    "completion = get_completion(messages, model='gpt-4-vision-preview')\n",
    "completion"
   ]
  }
 ],
 "metadata": {
  "kernelspec": {
   "display_name": "llm-workshop",
   "language": "python",
   "name": "python3"
  },
  "language_info": {
   "codemirror_mode": {
    "name": "ipython",
    "version": 3
   },
   "file_extension": ".py",
   "mimetype": "text/x-python",
   "name": "python",
   "nbconvert_exporter": "python",
   "pygments_lexer": "ipython3",
   "version": "3.12.0"
  }
 },
 "nbformat": 4,
 "nbformat_minor": 2
}
