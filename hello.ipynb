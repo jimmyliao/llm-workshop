{
 "cells": [
  {
   "cell_type": "code",
   "execution_count": 5,
   "metadata": {},
   "outputs": [
    {
     "name": "stdout",
     "output_type": "stream",
     "text": [
      "Requirement already satisfied: ipykernel in /Users/jimmy.liao/.pyenv/versions/3.12.0/envs/llm-workshop/lib/python3.12/site-packages (from -r requirements.txt (line 1)) (6.26.0)\n",
      "Collecting pandas (from -r requirements.txt (line 2))\n",
      "  Obtaining dependency information for pandas from https://files.pythonhosted.org/packages/0e/aa/5a8f2fa54d792bd2778113922ede5d0e8cb4c3ce6086b6e6a954e7daef75/pandas-2.1.2-cp312-cp312-macosx_11_0_arm64.whl.metadata\n",
      "  Downloading pandas-2.1.2-cp312-cp312-macosx_11_0_arm64.whl.metadata (18 kB)\n",
      "Collecting numpy (from -r requirements.txt (line 3))\n",
      "  Obtaining dependency information for numpy from https://files.pythonhosted.org/packages/65/5a/87a862acf8aa3ef5896577db5baf29e56df0fdbda025fbb67fd5039794d1/numpy-1.26.1-cp312-cp312-macosx_11_0_arm64.whl.metadata\n",
      "  Downloading numpy-1.26.1-cp312-cp312-macosx_11_0_arm64.whl.metadata (61 kB)\n",
      "\u001b[2K     \u001b[38;2;114;156;31m━━━━━━━━━━━━━━━━━━━━━━━━━━━━━━━━━━━━━━━\u001b[0m \u001b[32m61.2/61.2 kB\u001b[0m \u001b[31m981.1 kB/s\u001b[0m eta \u001b[36m0:00:00\u001b[0m31m1.6 MB/s\u001b[0m eta \u001b[36m0:00:01\u001b[0m\n",
      "\u001b[?25hRequirement already satisfied: appnope in /Users/jimmy.liao/.pyenv/versions/3.12.0/envs/llm-workshop/lib/python3.12/site-packages (from ipykernel->-r requirements.txt (line 1)) (0.1.3)\n",
      "Requirement already satisfied: comm>=0.1.1 in /Users/jimmy.liao/.pyenv/versions/3.12.0/envs/llm-workshop/lib/python3.12/site-packages (from ipykernel->-r requirements.txt (line 1)) (0.1.4)\n",
      "Requirement already satisfied: debugpy>=1.6.5 in /Users/jimmy.liao/.pyenv/versions/3.12.0/envs/llm-workshop/lib/python3.12/site-packages (from ipykernel->-r requirements.txt (line 1)) (1.8.0)\n",
      "Requirement already satisfied: ipython>=7.23.1 in /Users/jimmy.liao/.pyenv/versions/3.12.0/envs/llm-workshop/lib/python3.12/site-packages (from ipykernel->-r requirements.txt (line 1)) (8.17.2)\n",
      "Requirement already satisfied: jupyter-client>=6.1.12 in /Users/jimmy.liao/.pyenv/versions/3.12.0/envs/llm-workshop/lib/python3.12/site-packages (from ipykernel->-r requirements.txt (line 1)) (8.5.0)\n",
      "Requirement already satisfied: jupyter-core!=5.0.*,>=4.12 in /Users/jimmy.liao/.pyenv/versions/3.12.0/envs/llm-workshop/lib/python3.12/site-packages (from ipykernel->-r requirements.txt (line 1)) (5.5.0)\n",
      "Requirement already satisfied: matplotlib-inline>=0.1 in /Users/jimmy.liao/.pyenv/versions/3.12.0/envs/llm-workshop/lib/python3.12/site-packages (from ipykernel->-r requirements.txt (line 1)) (0.1.6)\n",
      "Requirement already satisfied: nest-asyncio in /Users/jimmy.liao/.pyenv/versions/3.12.0/envs/llm-workshop/lib/python3.12/site-packages (from ipykernel->-r requirements.txt (line 1)) (1.5.8)\n",
      "Requirement already satisfied: packaging in /Users/jimmy.liao/.pyenv/versions/3.12.0/envs/llm-workshop/lib/python3.12/site-packages (from ipykernel->-r requirements.txt (line 1)) (23.2)\n",
      "Requirement already satisfied: psutil in /Users/jimmy.liao/.pyenv/versions/3.12.0/envs/llm-workshop/lib/python3.12/site-packages (from ipykernel->-r requirements.txt (line 1)) (5.9.6)\n",
      "Requirement already satisfied: pyzmq>=20 in /Users/jimmy.liao/.pyenv/versions/3.12.0/envs/llm-workshop/lib/python3.12/site-packages (from ipykernel->-r requirements.txt (line 1)) (25.1.1)\n",
      "Requirement already satisfied: tornado>=6.1 in /Users/jimmy.liao/.pyenv/versions/3.12.0/envs/llm-workshop/lib/python3.12/site-packages (from ipykernel->-r requirements.txt (line 1)) (6.3.3)\n",
      "Requirement already satisfied: traitlets>=5.4.0 in /Users/jimmy.liao/.pyenv/versions/3.12.0/envs/llm-workshop/lib/python3.12/site-packages (from ipykernel->-r requirements.txt (line 1)) (5.13.0)\n",
      "Requirement already satisfied: python-dateutil>=2.8.2 in /Users/jimmy.liao/.pyenv/versions/3.12.0/envs/llm-workshop/lib/python3.12/site-packages (from pandas->-r requirements.txt (line 2)) (2.8.2)\n",
      "Collecting pytz>=2020.1 (from pandas->-r requirements.txt (line 2))\n",
      "  Obtaining dependency information for pytz>=2020.1 from https://files.pythonhosted.org/packages/32/4d/aaf7eff5deb402fd9a24a1449a8119f00d74ae9c2efa79f8ef9994261fc2/pytz-2023.3.post1-py2.py3-none-any.whl.metadata\n",
      "  Downloading pytz-2023.3.post1-py2.py3-none-any.whl.metadata (22 kB)\n",
      "Collecting tzdata>=2022.1 (from pandas->-r requirements.txt (line 2))\n",
      "  Downloading tzdata-2023.3-py2.py3-none-any.whl (341 kB)\n",
      "\u001b[2K     \u001b[38;2;114;156;31m━━━━━━━━━━━━━━━━━━━━━━━━━━━━━━━━━━━━━━━\u001b[0m \u001b[32m341.8/341.8 kB\u001b[0m \u001b[31m2.7 MB/s\u001b[0m eta \u001b[36m0:00:00\u001b[0mm eta \u001b[36m0:00:01\u001b[0m0:01\u001b[0m:01\u001b[0m\n",
      "\u001b[?25hRequirement already satisfied: decorator in /Users/jimmy.liao/.pyenv/versions/3.12.0/envs/llm-workshop/lib/python3.12/site-packages (from ipython>=7.23.1->ipykernel->-r requirements.txt (line 1)) (5.1.1)\n",
      "Requirement already satisfied: jedi>=0.16 in /Users/jimmy.liao/.pyenv/versions/3.12.0/envs/llm-workshop/lib/python3.12/site-packages (from ipython>=7.23.1->ipykernel->-r requirements.txt (line 1)) (0.19.1)\n",
      "Requirement already satisfied: prompt-toolkit!=3.0.37,<3.1.0,>=3.0.30 in /Users/jimmy.liao/.pyenv/versions/3.12.0/envs/llm-workshop/lib/python3.12/site-packages (from ipython>=7.23.1->ipykernel->-r requirements.txt (line 1)) (3.0.39)\n",
      "Requirement already satisfied: pygments>=2.4.0 in /Users/jimmy.liao/.pyenv/versions/3.12.0/envs/llm-workshop/lib/python3.12/site-packages (from ipython>=7.23.1->ipykernel->-r requirements.txt (line 1)) (2.16.1)\n",
      "Requirement already satisfied: stack-data in /Users/jimmy.liao/.pyenv/versions/3.12.0/envs/llm-workshop/lib/python3.12/site-packages (from ipython>=7.23.1->ipykernel->-r requirements.txt (line 1)) (0.6.3)\n",
      "Requirement already satisfied: pexpect>4.3 in /Users/jimmy.liao/.pyenv/versions/3.12.0/envs/llm-workshop/lib/python3.12/site-packages (from ipython>=7.23.1->ipykernel->-r requirements.txt (line 1)) (4.8.0)\n",
      "Requirement already satisfied: platformdirs>=2.5 in /Users/jimmy.liao/.pyenv/versions/3.12.0/envs/llm-workshop/lib/python3.12/site-packages (from jupyter-core!=5.0.*,>=4.12->ipykernel->-r requirements.txt (line 1)) (3.11.0)\n",
      "Requirement already satisfied: six>=1.5 in /Users/jimmy.liao/.pyenv/versions/3.12.0/envs/llm-workshop/lib/python3.12/site-packages (from python-dateutil>=2.8.2->pandas->-r requirements.txt (line 2)) (1.16.0)\n",
      "Requirement already satisfied: parso<0.9.0,>=0.8.3 in /Users/jimmy.liao/.pyenv/versions/3.12.0/envs/llm-workshop/lib/python3.12/site-packages (from jedi>=0.16->ipython>=7.23.1->ipykernel->-r requirements.txt (line 1)) (0.8.3)\n",
      "Requirement already satisfied: ptyprocess>=0.5 in /Users/jimmy.liao/.pyenv/versions/3.12.0/envs/llm-workshop/lib/python3.12/site-packages (from pexpect>4.3->ipython>=7.23.1->ipykernel->-r requirements.txt (line 1)) (0.7.0)\n",
      "Requirement already satisfied: wcwidth in /Users/jimmy.liao/.pyenv/versions/3.12.0/envs/llm-workshop/lib/python3.12/site-packages (from prompt-toolkit!=3.0.37,<3.1.0,>=3.0.30->ipython>=7.23.1->ipykernel->-r requirements.txt (line 1)) (0.2.9)\n",
      "Requirement already satisfied: executing>=1.2.0 in /Users/jimmy.liao/.pyenv/versions/3.12.0/envs/llm-workshop/lib/python3.12/site-packages (from stack-data->ipython>=7.23.1->ipykernel->-r requirements.txt (line 1)) (2.0.1)\n",
      "Requirement already satisfied: asttokens>=2.1.0 in /Users/jimmy.liao/.pyenv/versions/3.12.0/envs/llm-workshop/lib/python3.12/site-packages (from stack-data->ipython>=7.23.1->ipykernel->-r requirements.txt (line 1)) (2.4.1)\n",
      "Requirement already satisfied: pure-eval in /Users/jimmy.liao/.pyenv/versions/3.12.0/envs/llm-workshop/lib/python3.12/site-packages (from stack-data->ipython>=7.23.1->ipykernel->-r requirements.txt (line 1)) (0.2.2)\n",
      "Downloading pandas-2.1.2-cp312-cp312-macosx_11_0_arm64.whl (10.6 MB)\n",
      "\u001b[2K   \u001b[38;2;114;156;31m━━━━━━━━━━━━━━━━━━━━━━━━━━━━━━━━━━━━━━━━\u001b[0m \u001b[32m10.6/10.6 MB\u001b[0m \u001b[31m14.7 MB/s\u001b[0m eta \u001b[36m0:00:00\u001b[0m[36m0:00:01\u001b[0m36m0:00:01\u001b[0m:01\u001b[0m\n",
      "\u001b[?25hDownloading numpy-1.26.1-cp312-cp312-macosx_11_0_arm64.whl (13.7 MB)\n",
      "\u001b[2K   \u001b[38;2;114;156;31m━━━━━━━━━━━━━━━━━━━━━━━━━━━━━━━━━━━━━━━━\u001b[0m \u001b[32m13.7/13.7 MB\u001b[0m \u001b[31m23.0 MB/s\u001b[0m eta \u001b[36m0:00:00\u001b[0mm eta \u001b[36m0:00:01\u001b[0m0:01\u001b[0m:01\u001b[0m\n",
      "\u001b[?25hDownloading pytz-2023.3.post1-py2.py3-none-any.whl (502 kB)\n",
      "\u001b[2K   \u001b[38;2;114;156;31m━━━━━━━━━━━━━━━━━━━━━━━━━━━━━━━━━━━━━━━━\u001b[0m \u001b[32m502.5/502.5 kB\u001b[0m \u001b[31m10.8 MB/s\u001b[0m eta \u001b[36m0:00:00\u001b[0mm eta \u001b[36m0:00:01\u001b[0m\n",
      "\u001b[?25hInstalling collected packages: pytz, tzdata, numpy, pandas\n",
      "Successfully installed numpy-1.26.1 pandas-2.1.2 pytz-2023.3.post1 tzdata-2023.3\n",
      "\n",
      "\u001b[1m[\u001b[0m\u001b[34;49mnotice\u001b[0m\u001b[1;39;49m]\u001b[0m\u001b[39;49m A new release of pip is available: \u001b[0m\u001b[31;49m23.2.1\u001b[0m\u001b[39;49m -> \u001b[0m\u001b[32;49m23.3.1\u001b[0m\n",
      "\u001b[1m[\u001b[0m\u001b[34;49mnotice\u001b[0m\u001b[1;39;49m]\u001b[0m\u001b[39;49m To update, run: \u001b[0m\u001b[32;49mpip install --upgrade pip\u001b[0m\n",
      "Note: you may need to restart the kernel to use updated packages.\n"
     ]
    }
   ],
   "source": [
    "%pip install -r requirements.txt"
   ]
  },
  {
   "cell_type": "code",
   "execution_count": 6,
   "metadata": {},
   "outputs": [
    {
     "name": "stdout",
     "output_type": "stream",
     "text": [
      "   A  B   C\n",
      "0  1  5   9\n",
      "1  2  6  10\n",
      "2  3  7  11\n",
      "3  4  8  12\n"
     ]
    }
   ],
   "source": [
    "# Import the necessary libraries\n",
    "import pandas as pd\n",
    "import numpy as np\n",
    "\n",
    "# Create a sample dataframe\n",
    "df = pd.DataFrame({'A': [1, 2, 3, 4], 'B': [5, 6, 7, 8], 'C': [9, 10, 11, 12]})\n",
    "\n",
    "# Print the dataframe\n",
    "print(df)\n"
   ]
  }
 ],
 "metadata": {
  "kernelspec": {
   "display_name": "Python 3",
   "language": "python",
   "name": "python3"
  },
  "language_info": {
   "codemirror_mode": {
    "name": "ipython",
    "version": 3
   },
   "file_extension": ".py",
   "mimetype": "text/x-python",
   "name": "python",
   "nbconvert_exporter": "python",
   "pygments_lexer": "ipython3",
   "version": "3.12.0"
  }
 },
 "nbformat": 4,
 "nbformat_minor": 2
}
